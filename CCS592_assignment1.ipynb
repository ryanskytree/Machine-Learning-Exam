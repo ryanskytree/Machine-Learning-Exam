{
 "cells": [
  {
   "cell_type": "code",
   "execution_count": 1,
   "id": "9b9dfb6b-bad4-4bc7-8452-c4b07e7b67aa",
   "metadata": {},
   "outputs": [
    {
     "name": "stdout",
     "output_type": "stream",
     "text": [
      "10\n",
      "13456665321\n",
      "910 7\n"
     ]
    }
   ],
   "source": [
    "'''\n",
    "CCS592_2324-assignment1\n",
"07/04/2021\n",    
"Ryan\n",
    "Song Song Zi\n",
    
    "'''\n",
    "\n",
    "\n",
    "t=1\n",
    "class Solution(object):\n",
    "    def __init__(self, num1, num2,):\n",
    "        self.num1 = num1 \n",
    "        self.num2 = num2  \n",
    "        self.list1, self.list2, = len(str(num1)), len(str(num2))   # Get the lengths of both numbers\n",
    "        self.list = self.list1 + self.list2                        # The length of the result is the sum of the lengths of both numbers\n",
    "        self.array = [0] * self.list   \n",
    "        self.time_n=0\n",
    "  \n",
    "    def mult(self):\n",
    "        num1,num2 = str(self.num1),str(self.num2)\n",
    "        if num1 == '0' or num2 == '0':\n",
    "            return '0'                                              # If either number is 0, the result is 0\n",
    "        \n",
    "        for i in reversed(range(self.list1)):                       # Iterate over each digit of the first number in reverse order\n",
    "            for j in reversed(range(self.list2)):                   # Iterate over each digit of the second number in reverse order\n",
    "                self.time_n+=1\n",
    "                self.array[i + j + 1] += int(num1[i]) * int(num2[j])# Compute the product and store it in the array\n",
    "                \n",
    "                #print(num1[i], num2[j],self.array[i + j + 1],self.array)\n",
    "                \n",
    "        #print('-----------------------------------------------')\n",
    "        \n",
    "        for i in reversed(range(1, self.list)):                     # Iterate over the array in reverse to handle carries      \n",
    "            self.time_n+=1\n",
    "            self.array[i - 1] += self.array[i] // 10                # Here, '//' is used for integer division, which correctly calculates the quotient.      \n",
    "            self.array[i] %= 10                                     # Modulo operation to get the remainder\n",
    "            \n",
    "            #print(self.array)  \n",
    "        \n",
    "        \n",
    "        return [self.array,self.time_n]\n",
    "\n",
    "    def karatsuba(self, num1, num2):\n",
    "        \n",
    "        if len(str(num1)) == 1 or len(str(num2)) == 1:               # Base case: If either number is single-digit, return their product\n",
    "            return num1 * num2\n",
    "        else:\n",
    "            \n",
    "            max_n = max(len(str(num1)), len(str(num2)))              # Calculate the maximum number of digits among the two numbers         \n",
    "            div2_n = max_n // 2                                      # Calculate the number of digits to divide by 2\n",
    "            a, b = num1 // 10**(div2_n), num1 % 10**(div2_n)         # num1 = a*10**(n/2)+b\n",
    "            c, d = num2 // 10**(div2_n), num2 % 10**(div2_n)         # num2 = c*10**(n/2)+d                                              \n",
    "            ac_mul, bd_mul = self.karatsuba(a, c), self.karatsuba(b, d)\n",
    "            ad_bc_mul = self.karatsuba(a + b, c + d) - ac_mul - bd_mul# Recursively compute ac, bd, and (a+b)(c+d)\n",
    "           \n",
    "                                                                      # num1*num2 = ac*10**(n)+(ad+bc)*10**(n/2)+bd\n",
    "            res = ac_mul * 10**(2 * div2_n) + ad_bc_mul * 10**(div2_n) + bd_mul\n",
    "            self.time_n+=1\n",
    "            global t\n",
    "            t=self.time_n\n",
    "            return res\n",
    "\n",
    "        \n",
    "    def array_to_stringNumber(self,array):                          #array to str number\n",
    "        res = ''                                                    # Store the result\n",
    "        pos = 0                                                    \n",
    "        if self.array[pos] == 0:                                    # Skip leading zeros in the result\n",
    "            pos += 1\n",
    "        while pos < self.list:\n",
    "            res = res + str(self.array[pos])                        # Convert the digits to strings and concatenate them\n",
    "            #print(res)\n",
    "            pos += 1\n",
    "        return res                                           \n",
    "\n",
    "number,time=0,0\n",
    "\n",
    "\n",
    "if __name__ == '__main__':\n",
    "    num1, num2 = 10, 91                             \n",
    "    native_s = Solution(num1, num2)\n",
    "    arraynumber=native_s.mult()\n",
    "    #print(arraynumber)\n",
    "    if num1=='0' or num2=='0':\n",
    "        print(int(native_s.array_to_stringNumber(arraynumber[0])))\n",
    "    else:\n",
    "        number,time=int(native_s.array_to_stringNumber(arraynumber[0])),arraynumber[1]\n",
    "    num3, num4 = 12111, 1111111                     \n",
    "    karatsuba_s = Solution(num3, num4)\n",
    "    karatsuba_number=karatsuba_s.karatsuba(num3, num4)\n",
    "    print(t)\n",
    "    print(karatsuba_number)\n",
    "print(number,time)\n",
    "\n"
   ]
  },
  {
   "cell_type": "code",
   "execution_count": 2,
   "id": "3420fc69-6f6b-4225-b136-82be5ba34296",
   "metadata": {},
   "outputs": [
    {
     "name": "stdout",
     "output_type": "stream",
     "text": [
      "[5, 6, 6, 5, 6, 6]\n",
      "[10, 14, 14, 10, 14, 14]\n"
     ]
    },
    {
     "data": {
      "image/png": "[encoded data removed]",
      "text/plain": [
       "<Figure size 640x480 with 1 Axes>"
      ]
     },
     "metadata": {},
     "output_type": "display_data"
    },
    {
     "data": {
      "image/png": "[encoded data removed]",
      "text/plain": [
       "<Figure size 640x480 with 1 Axes>"
      ]
     },
     "metadata": {},
     "output_type": "display_data"
    }
   ],
   "source": [
    "#native multiple\n",
    "import random\n",
    "list_num_1_2 =[]\n",
    "list_time=[]\n",
    "array_times=6\n",
    "\n",
    "for i in range(array_times):\n",
    "    num1 = random.randint(1,1000)\n",
    "    num2 = random.randint(1,1000)\n",
    "\n",
    "    native_s = Solution(num1, num2)\n",
    "    native_s_number=native_s.mult()\n",
    "    time=native_s_number[1]\n",
    "    list_time.append(time)\n",
    "    len_num_1_2=len(str(num1))+len(str(num2))\n",
    "    list_num_1_2.append(len_num_1_2)\n",
    "    \n",
    "print(list_num_1_2)\n",
    "print(list_time)\n",
    "\n",
    "import numpy as np\n",
    "import matplotlib.pyplot as plt\n",
    "\n",
    "size = array_times\n",
    "x = np.arange(size)\n",
    "a = np.array(list_num_1_2)\n",
    "b = np.array(list_time)\n",
    "\n",
    "\n",
    "total_width, n = 0.8, 3\n",
    "width = total_width / n\n",
    "x = x - (total_width - width) / 2\n",
    "\n",
    "plt.bar(x, a,  width=width, label='num_lenth')\n",
    "plt.bar(x + width, b, width=width, label='time')\n",
    "\n",
    "plt.legend()\n",
    "plt.show()\n",
    "\n",
    "plt.barh(range(len(a)), a)\n",
    "plt.barh(range(len(b)), -b)\n",
    "plt.title('native multiple')\n",
    "plt.show()"
   ]
  },
  {
   "cell_type": "code",
   "execution_count": 3,
   "id": "d9dbc037-1415-4851-94cd-774676133ab1",
   "metadata": {},
   "outputs": [
    {
     "name": "stdout",
     "output_type": "stream",
     "text": [
      "[6, 6, 6, 5, 6, 6]\n",
      "[3, 3, 4, 2, 5, 3]\n"
     ]
    },
    {
     "data": {
      "image/png": "[encoded data removed]",
      "text/plain": [
       "<Figure size 640x480 with 1 Axes>"
      ]
     },
     "metadata": {},
     "output_type": "display_data"
    },
    {
     "data": {
      "image/png": "[encoded data removed]",
      "text/plain": [
       "<Figure size 640x480 with 1 Axes>"
      ]
     },
     "metadata": {},
     "output_type": "display_data"
    }
   ],
   "source": [
    "import random\n",
    "list_num_1_2 =[]\n",
    "list_time=[]\n",
    "array_times=6\n",
    "\n",
    "\n",
    "for i in range(array_times):\n",
    "    t=0\n",
    "    num1 = random.randint(1,1000)\n",
    "    num2 = random.randint(1,1000)\n",
    "\n",
    "    karatsuba_s = Solution(num1, num2)\n",
    "    karatsuba_s_number=karatsuba_s.karatsuba(num1,num2)\n",
    "    time=t\n",
    "    list_time.append(time)\n",
    "    len_num_1_2=len(str(num1))+len(str(num2))\n",
    "    list_num_1_2.append(len_num_1_2)\n",
    "    \n",
    "print(list_num_1_2)\n",
    "print(list_time)\n",
    "\n",
    "import numpy as np\n",
    "import matplotlib.pyplot as plt\n",
    "\n",
    "size = array_times\n",
    "x = np.arange(size)\n",
    "a = np.array(list_num_1_2)\n",
    "b = np.array(list_time)\n",
    "\n",
    "\n",
    "total_width, n = 0.8, 3\n",
    "width = total_width / n\n",
    "x = x - (total_width - width) / 2\n",
    "\n",
    "plt.bar(x, a,  width=width, label='num_lenth')\n",
    "plt.bar(x + width, b, width=width, label='time')\n",
    "\n",
    "plt.legend()\n",
    "plt.show()\n",
    "\n",
    "plt.barh(range(len(a)), a)\n",
    "plt.barh(range(len(b)), -b)\n",
    "plt.title('karatsuba multiple')\n",
    "plt.show()"
   ]
  },
  {
   "cell_type": "code",
   "execution_count": 4,
   "id": "0f024939-bc43-41d0-91fe-c620e0df1f52",
   "metadata": {},
   "outputs": [
    {
     "name": "stdout",
     "output_type": "stream",
     "text": [
      "[14, 14, 14, 10, 14, 14]\n",
      "[4, 3, 3, 2, 5, 3]\n"
     ]
    },
    {
     "data": {
      "image/png": "[encoded data removed]",
      "text/plain": [
       "<Figure size 640x480 with 1 Axes>"
      ]
     },
     "metadata": {},
     "output_type": "display_data"
    }
   ],
   "source": [
    "import random\n",
    "nativ_time =[]\n",
    "karatsuba_time=[]\n",
    "array_times=6\n",
    "\n",
    "\n",
    "for i in range(array_times):\n",
    "    t=1\n",
    "    num1 = random.randint(0,1000)\n",
    "    num2 = random.randint(0,1000)\n",
    "\n",
    "    karatsuba_s = Solution(num1, num2)\n",
    "    karatsuba_s_number=karatsuba_s.karatsuba(num1,num2)\n",
    "\n",
    "    native_s = Solution(num1, num2)\n",
    "    native_s_number=native_s.mult()\n",
    "    \n",
    "\n",
    "    nativ_time.append(native_s_number[1])\n",
    "    karatsuba_time.append(t)\n",
    "    \n",
    "print(nativ_time)\n",
    "print(karatsuba_time)\n",
    "\n",
    "import numpy as np\n",
    "import matplotlib.pyplot as plt\n",
    "\n",
    "size = array_times\n",
    "x = np.arange(size)\n",
    "a = np.array(nativ_time)\n",
    "b = np.array(karatsuba_time)\n",
    "\n",
    "\n",
    "total_width, n = 0.8, 3\n",
    "width = total_width / n\n",
    "x = x - (total_width - width) / 2\n",
    "\n",
    "plt.bar(x, a,  width=width, label='nativ_time')\n",
    "plt.bar(x + width, b, width=width, label='karatsuba_time')\n",
    "\n",
    "plt.legend()\n",
    "plt.title('native and karatsuba multiple')\n",
    "plt.show()\n",
    "\n"
   ]
  },
  {
   "cell_type": "code",
   "execution_count": null,
   "id": "8e9765ad-9508-449e-8c60-fbe211e7124d",
   "metadata": {},
   "outputs": [],
   "source": []
  },
  {
   "cell_type": "code",
   "execution_count": null,
   "id": "b0606311-c029-4ece-ab88-c737964d816c",
   "metadata": {},
   "outputs": [],
   "source": []
  }
 ],
 "metadata": {
  "kernelspec": {
   "display_name": "Python 3 (ipykernel)",
   "language": "python",
   "name": "python3"
  },
  "language_info": {
   "codemirror_mode": {
    "name": "ipython",
    "version": 3
   },
   "file_extension": ".py",
   "mimetype": "text/x-python",
   "name": "python",
   "nbconvert_exporter": "python",
   "pygments_lexer": "ipython3",
   "version": "3.10.11"
  }
 },
 "nbformat": 4,
 "nbformat_minor": 5
}
